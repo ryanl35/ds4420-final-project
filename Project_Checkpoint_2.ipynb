{
  "nbformat": 4,
  "nbformat_minor": 0,
  "metadata": {
    "kernelspec": {
      "display_name": "Python 3",
      "language": "python",
      "name": "python3"
    },
    "language_info": {
      "codemirror_mode": {
        "name": "ipython",
        "version": 3
      },
      "file_extension": ".py",
      "mimetype": "text/x-python",
      "name": "python",
      "nbconvert_exporter": "python",
      "pygments_lexer": "ipython3",
      "version": "3.8.3"
    },
    "colab": {
      "name": "Project_Checkpoint_2.ipynb",
      "provenance": [],
      "toc_visible": true,
      "include_colab_link": true
    }
  },
  "cells": [
    {
      "cell_type": "markdown",
      "metadata": {
        "id": "view-in-github",
        "colab_type": "text"
      },
      "source": [
        "<a href=\"https://colab.research.google.com/github/ryanl35/ds4420-final-project/blob/master/Project_Checkpoint_2.ipynb\" target=\"_parent\"><img src=\"https://colab.research.google.com/assets/colab-badge.svg\" alt=\"Open In Colab\"/></a>"
      ]
    },
    {
      "cell_type": "markdown",
      "metadata": {
        "id": "pmVGUfwbe8SZ"
      },
      "source": [
        "# DS4420 FINAL PROJECT\n",
        "### -- CHECKPOINT 2 --\n",
        "\n",
        "Ryan Liang"
      ]
    },
    {
      "cell_type": "code",
      "metadata": {
        "id": "xJbqF6zOe8Se"
      },
      "source": [
        "import math\n",
        "import numpy as np\n",
        "import pandas as pd\n",
        "import random\n",
        "import matplotlib.pyplot as plt\n",
        "%matplotlib inline\n",
        "\n",
        "# For Preprocessing and Data manipulation\n",
        "from sklearn.preprocessing import StandardScaler\n",
        "from sklearn.model_selection import train_test_split\n",
        "from sklearn.model_selection import StratifiedShuffleSplit\n",
        "\n",
        "# Model Imports\n",
        "from sklearn.naive_bayes import GaussianNB\n",
        "from sklearn.linear_model import LogisticRegression\n",
        "from sklearn.neighbors import KNeighborsClassifier\n",
        "from sklearn.tree import DecisionTreeClassifier\n",
        "from sklearn.ensemble import RandomForestClassifier\n",
        "from sklearn.svm import SVC\n",
        "from sklearn.linear_model import LinearRegression\n",
        "\n",
        "# Metric Imports\n",
        "\n",
        "from sklearn.metrics import (\n",
        "    confusion_matrix,\n",
        "    classification_report,\n",
        "    precision_score, \n",
        "    recall_score, \n",
        "    f1_score,\n",
        "    log_loss\n",
        ")\n",
        "from sklearn.metrics import roc_curve, roc_auc_score\n",
        "from sklearn.metrics import mean_squared_error\n"
      ],
      "execution_count": 84,
      "outputs": []
    },
    {
      "cell_type": "markdown",
      "metadata": {
        "id": "6FQzaulMe8Sf"
      },
      "source": [
        "# Data Import"
      ]
    },
    {
      "cell_type": "code",
      "metadata": {
        "id": "ls3RD4jIe8Sg"
      },
      "source": [
        "# grab the data from the github\n",
        "data = pd.read_csv(\"https://raw.githubusercontent.com/ryanl35/ds4420-final-project/master/data/MassShootingsDatasetVer5.csv\")"
      ],
      "execution_count": 85,
      "outputs": []
    },
    {
      "cell_type": "code",
      "metadata": {
        "id": "i5mDgyrJe8Sg"
      },
      "source": [
        "# These columns weren't relevant or useful to the goal of the project\n",
        "data = data.drop(columns=[\"Employed at\", \"S#\"])"
      ],
      "execution_count": 86,
      "outputs": []
    },
    {
      "cell_type": "code",
      "metadata": {
        "colab": {
          "base_uri": "https://localhost:8080/",
          "height": 1000
        },
        "id": "IwIfPPDQe8Sg",
        "outputId": "9f47f780-2e03-4249-834e-c52834ad0c6a"
      },
      "source": [
        "# display the data\n",
        "data"
      ],
      "execution_count": 87,
      "outputs": [
        {
          "output_type": "execute_result",
          "data": {
            "text/html": [
              "<div>\n",
              "<style scoped>\n",
              "    .dataframe tbody tr th:only-of-type {\n",
              "        vertical-align: middle;\n",
              "    }\n",
              "\n",
              "    .dataframe tbody tr th {\n",
              "        vertical-align: top;\n",
              "    }\n",
              "\n",
              "    .dataframe thead th {\n",
              "        text-align: right;\n",
              "    }\n",
              "</style>\n",
              "<table border=\"1\" class=\"dataframe\">\n",
              "  <thead>\n",
              "    <tr style=\"text-align: right;\">\n",
              "      <th></th>\n",
              "      <th>Title</th>\n",
              "      <th>Location</th>\n",
              "      <th>Date</th>\n",
              "      <th>Incident Area</th>\n",
              "      <th>Open/Close Location</th>\n",
              "      <th>Target</th>\n",
              "      <th>Cause</th>\n",
              "      <th>Summary</th>\n",
              "      <th>Fatalities</th>\n",
              "      <th>Injured</th>\n",
              "      <th>Total victims</th>\n",
              "      <th>Policeman Killed</th>\n",
              "      <th>Age</th>\n",
              "      <th>Employeed (Y/N)</th>\n",
              "      <th>Mental Health Issues</th>\n",
              "      <th>Race</th>\n",
              "      <th>Gender</th>\n",
              "      <th>Latitude</th>\n",
              "      <th>Longitude</th>\n",
              "    </tr>\n",
              "  </thead>\n",
              "  <tbody>\n",
              "    <tr>\n",
              "      <th>0</th>\n",
              "      <td>Texas church mass shooting</td>\n",
              "      <td>Sutherland Springs, TX</td>\n",
              "      <td>11/5/17</td>\n",
              "      <td>Church</td>\n",
              "      <td>Close</td>\n",
              "      <td>random</td>\n",
              "      <td>unknown</td>\n",
              "      <td>Devin Patrick Kelley, 26, an ex-air force offi...</td>\n",
              "      <td>26</td>\n",
              "      <td>20</td>\n",
              "      <td>46</td>\n",
              "      <td>0.0</td>\n",
              "      <td>26</td>\n",
              "      <td>NaN</td>\n",
              "      <td>No</td>\n",
              "      <td>White</td>\n",
              "      <td>M</td>\n",
              "      <td>NaN</td>\n",
              "      <td>NaN</td>\n",
              "    </tr>\n",
              "    <tr>\n",
              "      <th>1</th>\n",
              "      <td>Walmart shooting in suburban Denver</td>\n",
              "      <td>Thornton, CO</td>\n",
              "      <td>11/1/17</td>\n",
              "      <td>Wal-Mart</td>\n",
              "      <td>Open</td>\n",
              "      <td>random</td>\n",
              "      <td>unknown</td>\n",
              "      <td>Scott Allen Ostrem, 47, walked into a Walmart ...</td>\n",
              "      <td>3</td>\n",
              "      <td>0</td>\n",
              "      <td>3</td>\n",
              "      <td>0.0</td>\n",
              "      <td>47</td>\n",
              "      <td>NaN</td>\n",
              "      <td>No</td>\n",
              "      <td>White</td>\n",
              "      <td>M</td>\n",
              "      <td>NaN</td>\n",
              "      <td>NaN</td>\n",
              "    </tr>\n",
              "    <tr>\n",
              "      <th>2</th>\n",
              "      <td>Edgewood businees park shooting</td>\n",
              "      <td>Edgewood, MD</td>\n",
              "      <td>10/18/17</td>\n",
              "      <td>Remodeling Store</td>\n",
              "      <td>Close</td>\n",
              "      <td>coworkers</td>\n",
              "      <td>unknown</td>\n",
              "      <td>Radee Labeeb Prince, 37, fatally shot three pe...</td>\n",
              "      <td>3</td>\n",
              "      <td>3</td>\n",
              "      <td>6</td>\n",
              "      <td>0.0</td>\n",
              "      <td>37</td>\n",
              "      <td>NaN</td>\n",
              "      <td>No</td>\n",
              "      <td>Black</td>\n",
              "      <td>M</td>\n",
              "      <td>NaN</td>\n",
              "      <td>NaN</td>\n",
              "    </tr>\n",
              "    <tr>\n",
              "      <th>3</th>\n",
              "      <td>Las Vegas Strip mass shooting</td>\n",
              "      <td>Las Vegas, NV</td>\n",
              "      <td>10/1/17</td>\n",
              "      <td>Las Vegas Strip Concert outside Mandala Bay</td>\n",
              "      <td>Open</td>\n",
              "      <td>random</td>\n",
              "      <td>unknown</td>\n",
              "      <td>Stephen Craig Paddock, opened fire from the 32...</td>\n",
              "      <td>59</td>\n",
              "      <td>527</td>\n",
              "      <td>585</td>\n",
              "      <td>1.0</td>\n",
              "      <td>64</td>\n",
              "      <td>NaN</td>\n",
              "      <td>Unclear</td>\n",
              "      <td>White</td>\n",
              "      <td>M</td>\n",
              "      <td>36.181271</td>\n",
              "      <td>-115.134132</td>\n",
              "    </tr>\n",
              "    <tr>\n",
              "      <th>4</th>\n",
              "      <td>San Francisco UPS shooting</td>\n",
              "      <td>San Francisco, CA</td>\n",
              "      <td>6/14/17</td>\n",
              "      <td>UPS facility</td>\n",
              "      <td>Close</td>\n",
              "      <td>coworkers</td>\n",
              "      <td>NaN</td>\n",
              "      <td>Jimmy Lam, 38, fatally shot three coworkers an...</td>\n",
              "      <td>3</td>\n",
              "      <td>2</td>\n",
              "      <td>5</td>\n",
              "      <td>0.0</td>\n",
              "      <td>38</td>\n",
              "      <td>1.0</td>\n",
              "      <td>Yes</td>\n",
              "      <td>Asian</td>\n",
              "      <td>M</td>\n",
              "      <td>NaN</td>\n",
              "      <td>NaN</td>\n",
              "    </tr>\n",
              "    <tr>\n",
              "      <th>...</th>\n",
              "      <td>...</td>\n",
              "      <td>...</td>\n",
              "      <td>...</td>\n",
              "      <td>...</td>\n",
              "      <td>...</td>\n",
              "      <td>...</td>\n",
              "      <td>...</td>\n",
              "      <td>...</td>\n",
              "      <td>...</td>\n",
              "      <td>...</td>\n",
              "      <td>...</td>\n",
              "      <td>...</td>\n",
              "      <td>...</td>\n",
              "      <td>...</td>\n",
              "      <td>...</td>\n",
              "      <td>...</td>\n",
              "      <td>...</td>\n",
              "      <td>...</td>\n",
              "      <td>...</td>\n",
              "    </tr>\n",
              "    <tr>\n",
              "      <th>318</th>\n",
              "      <td>Clara Barton Elementary School</td>\n",
              "      <td>Chicago, Illinois</td>\n",
              "      <td>1/17/74</td>\n",
              "      <td>Clara Barton Elementary School</td>\n",
              "      <td>Close</td>\n",
              "      <td>Teachers</td>\n",
              "      <td>anger</td>\n",
              "      <td>On January 17, 1974, a 14-year-old student ent...</td>\n",
              "      <td>1</td>\n",
              "      <td>3</td>\n",
              "      <td>4</td>\n",
              "      <td>0.0</td>\n",
              "      <td>14</td>\n",
              "      <td>NaN</td>\n",
              "      <td>Yes</td>\n",
              "      <td>Unknown</td>\n",
              "      <td>Male</td>\n",
              "      <td>41.839280</td>\n",
              "      <td>-87.688181</td>\n",
              "    </tr>\n",
              "    <tr>\n",
              "      <th>319</th>\n",
              "      <td>New Orleans Police Shootings</td>\n",
              "      <td>New Orleans, Louisiana</td>\n",
              "      <td>12/31/72</td>\n",
              "      <td>NaN</td>\n",
              "      <td>NaN</td>\n",
              "      <td>random</td>\n",
              "      <td>psycho</td>\n",
              "      <td>On New Year's Eve in 1972, a 23-year-old ex-Na...</td>\n",
              "      <td>10</td>\n",
              "      <td>13</td>\n",
              "      <td>22</td>\n",
              "      <td>4.0</td>\n",
              "      <td>23</td>\n",
              "      <td>NaN</td>\n",
              "      <td>Yes</td>\n",
              "      <td>Black American or African American</td>\n",
              "      <td>Male</td>\n",
              "      <td>30.068724</td>\n",
              "      <td>-89.931474</td>\n",
              "    </tr>\n",
              "    <tr>\n",
              "      <th>320</th>\n",
              "      <td>St. Aloysius Church</td>\n",
              "      <td>Spokane, Washington</td>\n",
              "      <td>11/11/71</td>\n",
              "      <td>Church</td>\n",
              "      <td>Close</td>\n",
              "      <td>random</td>\n",
              "      <td>terrorism</td>\n",
              "      <td>On November 11, 1971, a former MIT student ent...</td>\n",
              "      <td>2</td>\n",
              "      <td>4</td>\n",
              "      <td>5</td>\n",
              "      <td>0.0</td>\n",
              "      <td>NaN</td>\n",
              "      <td>NaN</td>\n",
              "      <td>Yes</td>\n",
              "      <td>White American or European American</td>\n",
              "      <td>Male</td>\n",
              "      <td>47.673674</td>\n",
              "      <td>-117.415984</td>\n",
              "    </tr>\n",
              "    <tr>\n",
              "      <th>321</th>\n",
              "      <td>Rose-Mar College of Beauty</td>\n",
              "      <td>Mesa, Arizona</td>\n",
              "      <td>11/12/66</td>\n",
              "      <td>Rose-Mar College of Beauty</td>\n",
              "      <td>Close</td>\n",
              "      <td>random</td>\n",
              "      <td>terrorism</td>\n",
              "      <td>On November 12, 1966, an 18-year-old high scho...</td>\n",
              "      <td>5</td>\n",
              "      <td>1</td>\n",
              "      <td>6</td>\n",
              "      <td>0.0</td>\n",
              "      <td>18</td>\n",
              "      <td>NaN</td>\n",
              "      <td>Yes</td>\n",
              "      <td>White American or European American</td>\n",
              "      <td>Male</td>\n",
              "      <td>33.422687</td>\n",
              "      <td>-111.816320</td>\n",
              "    </tr>\n",
              "    <tr>\n",
              "      <th>322</th>\n",
              "      <td>University of Texas at Austin</td>\n",
              "      <td>Austin, Texas</td>\n",
              "      <td>8/1/66</td>\n",
              "      <td>University of Texas</td>\n",
              "      <td>Close</td>\n",
              "      <td>random</td>\n",
              "      <td>terrorism</td>\n",
              "      <td>On August 1, 1966, a 25-year-old engineering s...</td>\n",
              "      <td>17</td>\n",
              "      <td>32</td>\n",
              "      <td>48</td>\n",
              "      <td>0.0</td>\n",
              "      <td>25</td>\n",
              "      <td>NaN</td>\n",
              "      <td>Yes</td>\n",
              "      <td>White American or European American</td>\n",
              "      <td>Male</td>\n",
              "      <td>30.198887</td>\n",
              "      <td>-97.844159</td>\n",
              "    </tr>\n",
              "  </tbody>\n",
              "</table>\n",
              "<p>323 rows × 19 columns</p>\n",
              "</div>"
            ],
            "text/plain": [
              "                                   Title  ...   Longitude\n",
              "0             Texas church mass shooting  ...         NaN\n",
              "1    Walmart shooting in suburban Denver  ...         NaN\n",
              "2        Edgewood businees park shooting  ...         NaN\n",
              "3          Las Vegas Strip mass shooting  ... -115.134132\n",
              "4             San Francisco UPS shooting  ...         NaN\n",
              "..                                   ...  ...         ...\n",
              "318       Clara Barton Elementary School  ...  -87.688181\n",
              "319         New Orleans Police Shootings  ...  -89.931474\n",
              "320                  St. Aloysius Church  ... -117.415984\n",
              "321           Rose-Mar College of Beauty  ... -111.816320\n",
              "322        University of Texas at Austin  ...  -97.844159\n",
              "\n",
              "[323 rows x 19 columns]"
            ]
          },
          "metadata": {
            "tags": []
          },
          "execution_count": 87
        }
      ]
    },
    {
      "cell_type": "markdown",
      "metadata": {
        "id": "JIEOCyACe8Sh"
      },
      "source": [
        "# Data Processing"
      ]
    },
    {
      "cell_type": "code",
      "metadata": {
        "id": "PySG3E7ae8Sh"
      },
      "source": [
        "# For this project, I will encode the following as variables:\n",
        "# - Gender as a binary variable where 0 = male and 1 = female. (a variable 2 means unknown)\n",
        "# - Mental Health Issues as a binary variable where 0 = no health issues and 1 = health issues. (a variable 2 means unknown)\n",
        "# - Race as a variable where:\n",
        "# 0 = white, 1 = black, 2 = asian, 3 = latino, 4 = native american, 5 = 2+ races, 6 = unknown/some other race\n",
        "# -------------------------------------------------------\n",
        "\n",
        "# create empty lists to store all the possible values for each variable\n",
        "races = []\n",
        "genders = []\n",
        "health = []\n",
        "\n",
        "# iterate through the each column within the data for the variables of interest\n",
        "for column in data:\n",
        "  #for each variable, we are going to append all of the possible values to the list\n",
        "    if column == \"Race\":\n",
        "        # iterate through each value\n",
        "        for row in data[column]:\n",
        "            # if statement - make sure we haven't already stored the current value\n",
        "            if row not in races:\n",
        "                races.append(row)\n",
        "    if column == \"Gender\":\n",
        "        for row in data[column]:\n",
        "            if row not in genders:\n",
        "                genders.append(row)\n",
        "    if column == 'Mental Health Issues':\n",
        "        for row in data[column]:\n",
        "            if row not in health:\n",
        "                health.append(row)\n",
        "\n",
        "# initialize empty lists for the dictionary object that we will append to a DataFrame\n",
        "races_df = []\n",
        "genders_df = []\n",
        "health_df = []\n",
        "      \n",
        "    \n",
        "# ----- (1) ENCODING RACE AS A VARIABLE -----\n",
        "\n",
        "# iterate through each record\n",
        "for i in range(len(data)):    \n",
        "    # get the value of \"Race\" column of the current index\n",
        "    # do index-lookup in our list of possible races to find the index\n",
        "    race_index = races.index(data['Race'][i])\n",
        "        \n",
        "    # based on previous data exploration, these indicies are all referring to the same race\n",
        "    if race_index == 7 or race_index == 12 or race_index == 14:\n",
        "        races_df.append(0)\n",
        "    \n",
        "    # based on previous data exploration, these indicies are all referring to the same race\n",
        "    elif race_index == 6 or race_index == 11 or race_index == 15:\n",
        "        races_df.append(1)\n",
        "\n",
        "    # based on previous data exploration, these indicies are all referring to the same race\n",
        "    elif race_index == 8 or race_index == 16:\n",
        "        races_df.append(2)\n",
        "\n",
        "    # reassign this index to one that makes more sense\n",
        "    elif race_index == 13:\n",
        "        races_df.append(4)\n",
        "    \n",
        "    # reassign this index to one that makes more sense\n",
        "    elif race_index == 10:\n",
        "        races_df.append(5)\n",
        "\n",
        "    # based on previous data exploration, these indicies are all referring to the same race\n",
        "    elif race_index == 3 or race_index == 5 or race_index == 9:\n",
        "        races_df.append(6)\n",
        "      \n",
        "    # if the index is not one within the if statement, then it's regular index is descriptive enough\n",
        "    else:\n",
        "        races_df.append(race_index)\n",
        "            \n",
        "# ----- (2) ENCODING GENDER AS A VARIABLE -----\n",
        "\n",
        "# iterate through each record\n",
        "for i in range(len(data)):    \n",
        "    # get the value of \"Gender\" column of the current index\n",
        "    # do index-lookup in our list of possible genders to find the index\n",
        "    gender_index = genders.index(data['Gender'][i])\n",
        "\n",
        "    # reassign this index to one that makes more sense\n",
        "    if gender_index == 2:\n",
        "        genders_df.append(0)\n",
        "\n",
        "    # based on previous data exploration, these indicies are all referring to the same race\n",
        "    elif gender_index == 1 or gender_index == 3 or gender_index == 4:\n",
        "        genders_df.append(2)\n",
        "\n",
        "    # reassign this index to one that makes more sense\n",
        "    elif gender_index == 5:\n",
        "        genders_df.append(1)\n",
        "\n",
        "    # if the index is not one within the if statement, then it's regular index is descriptive enough\n",
        "    else:\n",
        "        genders_df.append(gender_index)\n",
        "        \n",
        "# ----- (3) ENCODING MENTAL HEALTH AS A VARIABLE -----\n",
        "\n",
        "# iterate through each record\n",
        "for i in range(len(data)):\n",
        "    # get the value of \"Mental Health Issues\" column of the current index\n",
        "    # do index-lookup in our list of possible mental Issues to find the index  \n",
        "    health_index = health.index(data['Mental Health Issues'][i])\n",
        "\n",
        "    # reassign this index to one that makes more sense\n",
        "    if health_index == 2:\n",
        "        health_df.append(1)\n",
        "\n",
        "    # based on previous data exploration, these indicies are all referring to the same race\n",
        "    elif health_index == 1 or health_index == 3 or health_index == 4:\n",
        "        health_df.append(2)\n",
        "        \n",
        "    # if the index is not one within the if statement, then it's regular index is descriptive enough   \n",
        "    else:\n",
        "        health_df.append(health_index)\n",
        "        \n",
        "# create a dictionary object with our newly cleaned and processed data\n",
        "project_dict = {\"Race\":races_df, \"Gender\":genders_df, \"Mental Health Issues\":health_df, \"Total victims\":data[\"Total victims\"]}\n",
        "# crate a new DataFrame for the project based on our dictionary object\n",
        "project_df = pd.DataFrame(data=project_dict)"
      ],
      "execution_count": 88,
      "outputs": []
    },
    {
      "cell_type": "code",
      "metadata": {
        "colab": {
          "base_uri": "https://localhost:8080/",
          "height": 419
        },
        "id": "V1aaDccAe8Si",
        "outputId": "6eacc625-2e7c-47ef-e865-f58747d8664f"
      },
      "source": [
        "# display DataFrame\n",
        "project_df"
      ],
      "execution_count": 89,
      "outputs": [
        {
          "output_type": "execute_result",
          "data": {
            "text/html": [
              "<div>\n",
              "<style scoped>\n",
              "    .dataframe tbody tr th:only-of-type {\n",
              "        vertical-align: middle;\n",
              "    }\n",
              "\n",
              "    .dataframe tbody tr th {\n",
              "        vertical-align: top;\n",
              "    }\n",
              "\n",
              "    .dataframe thead th {\n",
              "        text-align: right;\n",
              "    }\n",
              "</style>\n",
              "<table border=\"1\" class=\"dataframe\">\n",
              "  <thead>\n",
              "    <tr style=\"text-align: right;\">\n",
              "      <th></th>\n",
              "      <th>Race</th>\n",
              "      <th>Gender</th>\n",
              "      <th>Mental Health Issues</th>\n",
              "      <th>Total victims</th>\n",
              "    </tr>\n",
              "  </thead>\n",
              "  <tbody>\n",
              "    <tr>\n",
              "      <th>0</th>\n",
              "      <td>0</td>\n",
              "      <td>0</td>\n",
              "      <td>0</td>\n",
              "      <td>46</td>\n",
              "    </tr>\n",
              "    <tr>\n",
              "      <th>1</th>\n",
              "      <td>0</td>\n",
              "      <td>0</td>\n",
              "      <td>0</td>\n",
              "      <td>3</td>\n",
              "    </tr>\n",
              "    <tr>\n",
              "      <th>2</th>\n",
              "      <td>1</td>\n",
              "      <td>0</td>\n",
              "      <td>0</td>\n",
              "      <td>6</td>\n",
              "    </tr>\n",
              "    <tr>\n",
              "      <th>3</th>\n",
              "      <td>0</td>\n",
              "      <td>0</td>\n",
              "      <td>2</td>\n",
              "      <td>585</td>\n",
              "    </tr>\n",
              "    <tr>\n",
              "      <th>4</th>\n",
              "      <td>2</td>\n",
              "      <td>0</td>\n",
              "      <td>1</td>\n",
              "      <td>5</td>\n",
              "    </tr>\n",
              "    <tr>\n",
              "      <th>...</th>\n",
              "      <td>...</td>\n",
              "      <td>...</td>\n",
              "      <td>...</td>\n",
              "      <td>...</td>\n",
              "    </tr>\n",
              "    <tr>\n",
              "      <th>318</th>\n",
              "      <td>1</td>\n",
              "      <td>0</td>\n",
              "      <td>1</td>\n",
              "      <td>4</td>\n",
              "    </tr>\n",
              "    <tr>\n",
              "      <th>319</th>\n",
              "      <td>0</td>\n",
              "      <td>0</td>\n",
              "      <td>1</td>\n",
              "      <td>22</td>\n",
              "    </tr>\n",
              "    <tr>\n",
              "      <th>320</th>\n",
              "      <td>2</td>\n",
              "      <td>0</td>\n",
              "      <td>1</td>\n",
              "      <td>5</td>\n",
              "    </tr>\n",
              "    <tr>\n",
              "      <th>321</th>\n",
              "      <td>2</td>\n",
              "      <td>0</td>\n",
              "      <td>1</td>\n",
              "      <td>6</td>\n",
              "    </tr>\n",
              "    <tr>\n",
              "      <th>322</th>\n",
              "      <td>2</td>\n",
              "      <td>0</td>\n",
              "      <td>1</td>\n",
              "      <td>48</td>\n",
              "    </tr>\n",
              "  </tbody>\n",
              "</table>\n",
              "<p>323 rows × 4 columns</p>\n",
              "</div>"
            ],
            "text/plain": [
              "     Race  Gender  Mental Health Issues  Total victims\n",
              "0       0       0                     0             46\n",
              "1       0       0                     0              3\n",
              "2       1       0                     0              6\n",
              "3       0       0                     2            585\n",
              "4       2       0                     1              5\n",
              "..    ...     ...                   ...            ...\n",
              "318     1       0                     1              4\n",
              "319     0       0                     1             22\n",
              "320     2       0                     1              5\n",
              "321     2       0                     1              6\n",
              "322     2       0                     1             48\n",
              "\n",
              "[323 rows x 4 columns]"
            ]
          },
          "metadata": {
            "tags": []
          },
          "execution_count": 89
        }
      ]
    },
    {
      "cell_type": "code",
      "metadata": {
        "id": "OdnugK5Ye8Si"
      },
      "source": [
        "# -- preprocessing / scaling -- #\n",
        "        \n",
        "# introduce the StandardScaler model to normalize/scale the data\n",
        "scaler = StandardScaler()"
      ],
      "execution_count": 90,
      "outputs": []
    },
    {
      "cell_type": "markdown",
      "metadata": {
        "id": "qLPHt8RAe8Sj"
      },
      "source": [
        "# PROBLEM 1"
      ]
    },
    {
      "cell_type": "code",
      "metadata": {
        "id": "ksA92FDOe8Sj"
      },
      "source": [
        "# FEATURE PROBLEM 1 - predicting whether the shooter was male or female\n",
        "# This will be considered a Classification task. Classify/predict whether the shooter was one or the other (binary)"
      ],
      "execution_count": 91,
      "outputs": []
    },
    {
      "cell_type": "code",
      "metadata": {
        "id": "39LRbIwTe8Sj"
      },
      "source": [
        "# -- preprocessing / scaling (cont.) -- #\n",
        "\n",
        "# create a copy of the project df for this specific problem\n",
        "problem1_df = project_df\n",
        "\n",
        "# get the indicies where the Gender was unknown\n",
        "indicies = problem1_df[problem1_df['Gender'] == 2].index\n",
        "\n",
        "# dropping values where Gender == 2 (the gender was unknown)\n",
        "problem1_df = problem1_df.drop(indicies)\n",
        "\n",
        "# reset the indicies so we don't get NaN values\n",
        "problem1_df = problem1_df.reset_index(drop=True)\n",
        "\n",
        "# transform the training and testing data to scale. drop non-numerical columns\n",
        "scaled_data = scaler.fit_transform(problem1_df.drop(['Gender'], axis = 1))\n",
        "\n",
        "# turn transformed/scaled data back into dataframes with header columns\n",
        "scaled_df = pd.DataFrame(scaled_data, columns=problem1_df.columns.drop(['Gender']))\n",
        "scaled_df['Gender'] = problem1_df['Gender']\n",
        "\n",
        "# assign the features and target to the approriate columns/variables\n",
        "features = scaled_df.drop(['Gender'], axis = 1)\n",
        "target = scaled_df['Gender']"
      ],
      "execution_count": 92,
      "outputs": []
    },
    {
      "cell_type": "code",
      "metadata": {
        "id": "T4bU6PM5e8Sk"
      },
      "source": [
        "# split the data into training and testing through train_test_split() method\n",
        "X_train, X_test, y_train, y_test = train_test_split(features, target, test_size=0.65)\n",
        "\n",
        "# scale the features \n",
        "X_train = StandardScaler().fit_transform(X_train.values)\n",
        "X_test = StandardScaler().fit_transform(X_test.values)"
      ],
      "execution_count": 93,
      "outputs": []
    },
    {
      "cell_type": "markdown",
      "metadata": {
        "id": "fCmuOoloe8Sk"
      },
      "source": [
        "## Model 1: Naive Bayes"
      ]
    },
    {
      "cell_type": "code",
      "metadata": {
        "colab": {
          "base_uri": "https://localhost:8080/"
        },
        "id": "nONhxOEne8Sk",
        "outputId": "4e31bcc1-7946-4580-f592-59d7e1b03dd6"
      },
      "source": [
        "# ----- MODEL 1: Naive Bayes ----- #\n",
        "\n",
        "print(\"\\n----- Naive Bayes -----\")\n",
        "\n",
        "# initialize the ML model\n",
        "nb = GaussianNB()\n",
        "# fit the model to the training data\n",
        "nb.fit(X_train, y_train)\n",
        "\n",
        "# TRAINING\n",
        "print(\"On Training Data:\")\n",
        "train_predict_label = nb.predict(X_train)\n",
        "\n",
        "c_matrix = confusion_matrix(y_train, train_predict_label)\n",
        "\n",
        "tp = c_matrix[1][1]\n",
        "tn = c_matrix[0][0]\n",
        "\n",
        "accuracy = (tp + tn) / (len(train_predict_label))\n",
        "print(\"\\nThe accuracy is: {}\".format(accuracy))\n",
        "print(\"The error is: {}\\n\".format(1-accuracy))\n",
        "\n",
        "# TESTING\n",
        "print(\"On Testing Data:\")\n",
        "test_predict_label = nb.predict(X_test)\n",
        "\n",
        "c_matrix = confusion_matrix(y_test, test_predict_label)\n",
        "\n",
        "tp = c_matrix[1][1]\n",
        "tn = c_matrix[0][0]\n",
        "\n",
        "accuracy = (tp + tn) / len(test_predict_label)\n",
        "print(\"\\nThe accuracy is: {}\".format(accuracy))\n",
        "print(\"The error is: {}\\n\".format(1-accuracy))"
      ],
      "execution_count": 94,
      "outputs": [
        {
          "output_type": "stream",
          "text": [
            "\n",
            "----- Naive Bayes -----\n",
            "On Training Data:\n",
            "\n",
            "The accuracy is: 0.8640776699029126\n",
            "The error is: 0.13592233009708743\n",
            "\n",
            "On Testing Data:\n",
            "\n",
            "The accuracy is: 0.9896907216494846\n",
            "The error is: 0.010309278350515427\n",
            "\n"
          ],
          "name": "stdout"
        }
      ]
    },
    {
      "cell_type": "markdown",
      "metadata": {
        "id": "5qcmANQ2e8Sl"
      },
      "source": [
        "## Model 2: Logistic Regression"
      ]
    },
    {
      "cell_type": "code",
      "metadata": {
        "colab": {
          "base_uri": "https://localhost:8080/"
        },
        "id": "FsjvwyFDe8Sl",
        "outputId": "808c294f-d0ac-4d95-f4b0-f7c0df506ff0"
      },
      "source": [
        "# ----- MODEL 2: Logistic Regression ----- #\n",
        "\n",
        "# initialize the ML model\n",
        "lr = LogisticRegression()\n",
        "# fit the model to the training data\n",
        "lr.fit(X_train, y_train)\n",
        "\n",
        "predict_label = lr.predict(X_test)\n",
        "\n",
        "# ----- CONFUSION MATRIX ----- #\n",
        "\n",
        "c_matrix = confusion_matrix(y_test, predict_label)\n",
        "\n",
        "tp = c_matrix[1][1]\n",
        "fp = c_matrix[0][1]\n",
        "tn = c_matrix[0][0]\n",
        "fn = c_matrix[1][0]\n",
        "\n",
        "accuracy = (tp + tn) / len(predict_label)\n",
        "print(\"\\nThe accuracy is: {}\".format(accuracy))\n",
        "print(\"The error is: {}\".format(1-accuracy))"
      ],
      "execution_count": 95,
      "outputs": [
        {
          "output_type": "stream",
          "text": [
            "\n",
            "The accuracy is: 0.9896907216494846\n",
            "The error is: 0.010309278350515427\n"
          ],
          "name": "stdout"
        }
      ]
    },
    {
      "cell_type": "markdown",
      "metadata": {
        "id": "Q2rdqh0Ie8Sm"
      },
      "source": [
        "# PROBLEM 2"
      ]
    },
    {
      "cell_type": "code",
      "metadata": {
        "id": "k7yY-FeBe8Sm"
      },
      "source": [
        "# FEATURE PROBLEM 2 - predicting whether the shooter had mental health issues\n",
        "# This will be considered a Classification task. Classify/predict whether the shooter was one or the other (binary)"
      ],
      "execution_count": 96,
      "outputs": []
    },
    {
      "cell_type": "code",
      "metadata": {
        "id": "FOX3hwZne8Sm"
      },
      "source": [
        "# -- preprocessing / scaling (cont.) -- #\n",
        "\n",
        "# create a copy of the project df for this specific problem\n",
        "problem2_df = project_df\n",
        "\n",
        "# get the indicies where the Mental Health Issues were unknown\n",
        "indicies = problem2_df[problem2_df['Mental Health Issues'] == 2].index\n",
        "\n",
        "# dropping values where Mental Health Issues == 2 (the Mental Health Issues were unknown)\n",
        "problem2_df = problem2_df.drop(indicies)\n",
        "\n",
        "# reset the indicies so we don't get NaN values\n",
        "problem2_df = problem2_df.reset_index(drop=True)\n",
        "\n",
        "# transform the training and testing data to scale. drop non-numerical columns\n",
        "scaled_data = scaler.fit_transform(problem2_df.drop(['Mental Health Issues'], axis = 1))\n",
        "\n",
        "# turn transformed/scaled data back into dataframes with header columns\n",
        "scaled_df = pd.DataFrame(scaled_data, columns=problem2_df.columns.drop(['Mental Health Issues']))\n",
        "scaled_df['Mental Health Issues'] = problem2_df['Mental Health Issues']\n",
        "\n",
        "# assign the features and target to the approriate columns/variables\n",
        "features = scaled_df.drop(['Mental Health Issues'], axis = 1)\n",
        "target = scaled_df['Mental Health Issues']"
      ],
      "execution_count": 97,
      "outputs": []
    },
    {
      "cell_type": "code",
      "metadata": {
        "id": "NXjZLva2e8Sm"
      },
      "source": [
        "X_train, X_test, y_train, y_test = train_test_split(features, target, test_size=0.7)\n",
        "\n",
        "# scale the features \n",
        "X_train = StandardScaler().fit_transform(X_train.values)\n",
        "X_test = StandardScaler().fit_transform(X_test.values)"
      ],
      "execution_count": 98,
      "outputs": []
    },
    {
      "cell_type": "markdown",
      "metadata": {
        "id": "YQQcYCzle8Sm"
      },
      "source": [
        "## Model 1: Naive Bayes"
      ]
    },
    {
      "cell_type": "code",
      "metadata": {
        "colab": {
          "base_uri": "https://localhost:8080/",
          "height": 0
        },
        "id": "ccG5sOble8Sm",
        "outputId": "11493b10-3abb-4168-aa1d-00f0b3176493"
      },
      "source": [
        "# ----- MODEL 1: Naive Bayes ----- #\n",
        "\n",
        "print(\"\\n----- Naive Bayes -----\")\n",
        "\n",
        "nb = GaussianNB()\n",
        "nb.fit(X_train, y_train)\n",
        "\n",
        "# TRAINING\n",
        "print(\"On Training Data:\")\n",
        "train_predict_label = nb.predict(X_train)\n",
        "\n",
        "c_matrix = confusion_matrix(y_train, train_predict_label)\n",
        "\n",
        "tp = c_matrix[1][1]\n",
        "tn = c_matrix[0][0]\n",
        "\n",
        "accuracy = (tp + tn) / (len(train_predict_label))\n",
        "print(\"\\nThe accuracy is: {}\".format(accuracy))\n",
        "print(\"The error is: {}\\n\".format(1-accuracy))\n",
        "\n",
        "# TESTING\n",
        "print(\"On Testing Data:\")\n",
        "test_predict_label = nb.predict(X_test)\n",
        "\n",
        "c_matrix = confusion_matrix(y_test, test_predict_label)\n",
        "\n",
        "tp = c_matrix[1][1]\n",
        "tn = c_matrix[0][0]\n",
        "\n",
        "accuracy = (tp + tn) / len(test_predict_label)\n",
        "print(\"\\nThe accuracy is: {}\".format(accuracy))\n",
        "print(\"The error is: {}\\n\".format(1-accuracy))\n",
        "\n",
        "# ROC and AUC\n",
        "\n",
        "probabilities = nb.predict_proba(X_test)\n",
        "probabilities = probabilities[:, 1]\n",
        "r_auc = roc_auc_score(y_test, probabilities)\n",
        "print(\"AUC=\", r_auc)\n",
        "\n",
        "fpr, tpr, _ = roc_curve(y_test, probabilities)\n",
        "plt.plot(fpr, tpr, marker='.', label=\"naive bayes\")\n",
        "plt.xlabel(\"False Positive Rate\")\n",
        "plt.ylabel(\"True Positive Rate\")"
      ],
      "execution_count": 99,
      "outputs": [
        {
          "output_type": "stream",
          "text": [
            "\n",
            "----- Naive Bayes -----\n",
            "On Training Data:\n",
            "\n",
            "The accuracy is: 0.5254237288135594\n",
            "The error is: 0.47457627118644063\n",
            "\n",
            "On Testing Data:\n",
            "\n",
            "The accuracy is: 0.6928571428571428\n",
            "The error is: 0.30714285714285716\n",
            "\n",
            "AUC= 0.7597468871198204\n"
          ],
          "name": "stdout"
        },
        {
          "output_type": "execute_result",
          "data": {
            "text/plain": [
              "Text(0, 0.5, 'True Positive Rate')"
            ]
          },
          "metadata": {
            "tags": []
          },
          "execution_count": 99
        },
        {
          "output_type": "display_data",
          "data": {
            "image/png": "[encoded data removed]",
            "text/plain": [
              "<Figure size 432x288 with 1 Axes>"
            ]
          },
          "metadata": {
            "tags": [],
            "needs_background": "light"
          }
        }
      ]
    },
    {
      "cell_type": "markdown",
      "metadata": {
        "id": "pPNhy1UNe8Sn"
      },
      "source": [
        "## Model 2: Logistic Regression"
      ]
    },
    {
      "cell_type": "code",
      "metadata": {
        "colab": {
          "base_uri": "https://localhost:8080/"
        },
        "id": "Zf9C4V4Pe8Sn",
        "outputId": "328a1495-c9cd-4463-cd81-be8f11055111"
      },
      "source": [
        "# ----- MODEL 2: Logistic Regression ----- #\n",
        "\n",
        "lr = LogisticRegression()\n",
        "lr.fit(X_train, y_train)\n",
        "\n",
        "predict_label = lr.predict(X_test)\n",
        "\n",
        "# ----- CONFUSION MATRIX ----- #\n",
        "\n",
        "c_matrix = confusion_matrix(y_test, predict_label)\n",
        "\n",
        "tp = c_matrix[1][1]\n",
        "fp = c_matrix[0][1]\n",
        "tn = c_matrix[0][0]\n",
        "fn = c_matrix[1][0]\n",
        "\n",
        "accuracy = (tp + tn) / len(predict_label)\n",
        "print(\"\\nThe accuracy is: {}\".format(accuracy))\n",
        "print(\"The error is: {}\".format(1-accuracy))\n",
        "\n",
        "# avoid a division by 0 error\n",
        "if tp+fp > 0:\n",
        "    precision = (tp) / (tp + fp)\n",
        "    recall = (tp) / (tp + fn)\n",
        "else:\n",
        "    precision = 0\n",
        "    recall = 0\n",
        "    \n",
        "# avoid a division by 0 error\n",
        "if precision+recall > 0:\n",
        "    f1 = 2 * (precision*recall) / (precision+recall)\n",
        "else:\n",
        "    f1 = 0\n",
        "    \n",
        "print(\"\\nThe precision is: {}\".format(precision))\n",
        "print(\"The recall is: {}\".format(recall))\n",
        "print(\"The F1 score is: {}\".format(f1))"
      ],
      "execution_count": 100,
      "outputs": [
        {
          "output_type": "stream",
          "text": [
            "\n",
            "The accuracy is: 0.5285714285714286\n",
            "The error is: 0.4714285714285714\n",
            "\n",
            "The precision is: 0.5182481751824818\n",
            "The recall is: 1.0\n",
            "The F1 score is: 0.6826923076923078\n"
          ],
          "name": "stdout"
        }
      ]
    },
    {
      "cell_type": "markdown",
      "metadata": {
        "id": "MbuCa099e8So"
      },
      "source": [
        "## Model 3: kNearest Neighbors "
      ]
    },
    {
      "cell_type": "code",
      "metadata": {
        "colab": {
          "base_uri": "https://localhost:8080/"
        },
        "id": "qz4oUaHLe8So",
        "outputId": "62480b73-fbcd-42da-c178-7bf927b8932d"
      },
      "source": [
        "# ----- MODEL 3: kNN ----- #\n",
        "\n",
        "print(\"----- kNN -----\")\n",
        "\n",
        "ks = [2, 3, 4, 5, 6, 7, 8, 9, 10]\n",
        "max_accuracy = 0\n",
        "max_k = 0\n",
        "\n",
        "for k in ks:\n",
        "    \n",
        "    print(\"k is: {}\".format(k))\n",
        "    \n",
        "    knn = KNeighborsClassifier(n_neighbors = k)\n",
        "    knn.fit(X_train, y_train)\n",
        "    \n",
        "    predict_label = knn.predict(X_test)\n",
        "    \n",
        "    c_matrix = confusion_matrix(y_test, predict_label)\n",
        "\n",
        "    tp = c_matrix[1][1]\n",
        "    fp = c_matrix[0][1]\n",
        "    tn = c_matrix[0][0]\n",
        "    fn = c_matrix[1][0]\n",
        "\n",
        "    accuracy = (tp + tn) / len(predict_label)\n",
        "    \n",
        "    if accuracy > max_accuracy:\n",
        "        max_accuracy = accuracy\n",
        "        max_k = k\n",
        "    \n",
        "    print(\"The accuracy is: {}\".format(accuracy))\n",
        "    print(\"The error is: {}\\n\".format(1-accuracy))\n",
        "    \n",
        "print(\"The k with the highest accuracy is {} with an accuracy of {}\".format(max_k, max_accuracy))"
      ],
      "execution_count": 101,
      "outputs": [
        {
          "output_type": "stream",
          "text": [
            "----- kNN -----\n",
            "k is: 2\n",
            "The accuracy is: 0.5357142857142857\n",
            "The error is: 0.4642857142857143\n",
            "\n",
            "k is: 3\n",
            "The accuracy is: 0.5071428571428571\n",
            "The error is: 0.4928571428571429\n",
            "\n",
            "k is: 4\n",
            "The accuracy is: 0.4642857142857143\n",
            "The error is: 0.5357142857142857\n",
            "\n",
            "k is: 5\n",
            "The accuracy is: 0.5285714285714286\n",
            "The error is: 0.4714285714285714\n",
            "\n",
            "k is: 6\n",
            "The accuracy is: 0.4714285714285714\n",
            "The error is: 0.5285714285714286\n",
            "\n",
            "k is: 7\n",
            "The accuracy is: 0.5142857142857142\n",
            "The error is: 0.48571428571428577\n",
            "\n",
            "k is: 8\n",
            "The accuracy is: 0.5071428571428571\n",
            "The error is: 0.4928571428571429\n",
            "\n",
            "k is: 9\n",
            "The accuracy is: 0.5071428571428571\n",
            "The error is: 0.4928571428571429\n",
            "\n",
            "k is: 10\n",
            "The accuracy is: 0.5\n",
            "The error is: 0.5\n",
            "\n",
            "The k with the highest accuracy is 2 with an accuracy of 0.5357142857142857\n"
          ],
          "name": "stdout"
        }
      ]
    },
    {
      "cell_type": "markdown",
      "metadata": {
        "id": "8EGqZ8nae8So"
      },
      "source": [
        "# PROBLEM 3"
      ]
    },
    {
      "cell_type": "code",
      "metadata": {
        "id": "GdpBPC2oe8So"
      },
      "source": [
        "# FEATURE PROBLEM 3 - predicting the race of the shooter\n",
        "# This will be considered a Classification task. Classify/predict the class of the shooter (class = race)"
      ],
      "execution_count": 102,
      "outputs": []
    },
    {
      "cell_type": "code",
      "metadata": {
        "id": "qSaG5iVce8So"
      },
      "source": [
        "# -- preprocessing / scaling (cont.) -- #\n",
        "\n",
        "# create a copy of the project df for this specific problem\n",
        "problem3_df = project_df\n",
        "\n",
        "# get the indicies where the Mental Health Issues were unknown\n",
        "indicies = problem3_df[problem3_df['Race'] == 6].index\n",
        "\n",
        "# dropping values where Mental Health Issues == 2 (the Mental Health Issues were unknown)\n",
        "problem3_df = problem3_df.drop(indicies)\n",
        "\n",
        "# reset the indicies so we don't get NaN values\n",
        "problem3_df = problem3_df.reset_index(drop=True)\n",
        "\n",
        "# transform the training and testing data to scale. drop non-numerical columns\n",
        "scaled_data = scaler.fit_transform(problem3_df.drop(['Race'], axis = 1))\n",
        "\n",
        "# turn transformed/scaled data back into dataframes with header columns\n",
        "scaled_df = pd.DataFrame(scaled_data, columns=problem3_df.columns.drop(['Race']))\n",
        "scaled_df['Race'] = problem3_df['Race']\n",
        "\n",
        "# assign the features and target to the approriate columns/variables\n",
        "features = scaled_df.drop(['Race'], axis = 1)\n",
        "target = scaled_df['Race']"
      ],
      "execution_count": 103,
      "outputs": []
    },
    {
      "cell_type": "code",
      "metadata": {
        "id": "-sMxdnUEe8Sp"
      },
      "source": [
        "X_train, X_test, y_train, y_test = train_test_split(features, target, test_size=0.5)\n",
        "\n",
        "# scale the features \n",
        "X_train = StandardScaler().fit_transform(X_train.values)\n",
        "X_test = StandardScaler().fit_transform(X_test.values)"
      ],
      "execution_count": 104,
      "outputs": []
    },
    {
      "cell_type": "markdown",
      "metadata": {
        "id": "KgWSbknYe8Sp"
      },
      "source": [
        "## Model 1: kNearest Neighbors "
      ]
    },
    {
      "cell_type": "code",
      "metadata": {
        "colab": {
          "base_uri": "https://localhost:8080/"
        },
        "id": "Bk_jj9ake8Sp",
        "outputId": "1f16a0b3-4aaf-41bc-b574-55a8b75e5963"
      },
      "source": [
        "# ----- MODEL 1: kNN ----- #\n",
        "\n",
        "print(\"----- kNN -----\")\n",
        "\n",
        "ks = [2, 3, 4, 5, 6, 7, 8, 9, 10, 50]\n",
        "\n",
        "# keeping track of our best performing k\n",
        "max_accuracy = 0\n",
        "max_k = 0\n",
        "\n",
        "# iterate through each k value\n",
        "for k in ks:\n",
        "    \n",
        "    print(\"k is: {}\".format(k))\n",
        "    \n",
        "    knn = KNeighborsClassifier(n_neighbors = k)\n",
        "    knn.fit(X_train, y_train)\n",
        "    \n",
        "    predict_label = knn.predict(X_test)\n",
        "    \n",
        "    c_matrix = confusion_matrix(y_test, predict_label)\n",
        "\n",
        "    tp = c_matrix[1][1]\n",
        "    fp = c_matrix[0][1]\n",
        "    tn = c_matrix[0][0]\n",
        "    fn = c_matrix[1][0]\n",
        "\n",
        "    accuracy = (tp + tn) / len(predict_label)\n",
        "    \n",
        "    if accuracy > max_accuracy:\n",
        "        max_accuracy = accuracy\n",
        "        max_k = k\n",
        "    \n",
        "    print(\"The accuracy is: {}\".format(accuracy))\n",
        "    print(\"The error is: {}\\n\".format(1-accuracy))\n",
        "    \n",
        "print(\"The k with the highest accuracy is {} with an accuracy of {}\".format(max_k, max_accuracy))"
      ],
      "execution_count": 105,
      "outputs": [
        {
          "output_type": "stream",
          "text": [
            "----- kNN -----\n",
            "k is: 2\n",
            "The accuracy is: 0.2987012987012987\n",
            "The error is: 0.7012987012987013\n",
            "\n",
            "k is: 3\n",
            "The accuracy is: 0.2987012987012987\n",
            "The error is: 0.7012987012987013\n",
            "\n",
            "k is: 4\n",
            "The accuracy is: 0.2987012987012987\n",
            "The error is: 0.7012987012987013\n",
            "\n",
            "k is: 5\n",
            "The accuracy is: 0.24675324675324675\n",
            "The error is: 0.7532467532467533\n",
            "\n",
            "k is: 6\n",
            "The accuracy is: 0.2857142857142857\n",
            "The error is: 0.7142857142857143\n",
            "\n",
            "k is: 7\n",
            "The accuracy is: 0.3051948051948052\n",
            "The error is: 0.6948051948051948\n",
            "\n",
            "k is: 8\n",
            "The accuracy is: 0.3116883116883117\n",
            "The error is: 0.6883116883116883\n",
            "\n",
            "k is: 9\n",
            "The accuracy is: 0.3051948051948052\n",
            "The error is: 0.6948051948051948\n",
            "\n",
            "k is: 10\n",
            "The accuracy is: 0.3051948051948052\n",
            "The error is: 0.6948051948051948\n",
            "\n",
            "k is: 50\n",
            "The accuracy is: 0.2012987012987013\n",
            "The error is: 0.7987012987012987\n",
            "\n",
            "The k with the highest accuracy is 8 with an accuracy of 0.3116883116883117\n"
          ],
          "name": "stdout"
        }
      ]
    },
    {
      "cell_type": "markdown",
      "metadata": {
        "id": "2dtYjUuDe8Sp"
      },
      "source": [
        "## Model 2: Support Vector Machine"
      ]
    },
    {
      "cell_type": "code",
      "metadata": {
        "colab": {
          "base_uri": "https://localhost:8080/"
        },
        "id": "smrA_PZPe8Sp",
        "outputId": "8f328e2a-6f67-48e3-e592-d86e35d3d0f1"
      },
      "source": [
        "# ----- MODEL 2: SVM ----- #\n",
        "\n",
        "svm = SVC()\n",
        "svm.fit(X_train, y_train)\n",
        "predict_label = svm.predict(X_test)\n",
        "\n",
        "c_matrix = confusion_matrix(y_test, predict_label)\n",
        "\n",
        "tp = c_matrix[1][1]\n",
        "fp = c_matrix[0][1]\n",
        "tn = c_matrix[0][0]\n",
        "fn = c_matrix[1][0]\n",
        "\n",
        "accuracy = (tp + tn) / len(predict_label)\n",
        "\n",
        "if accuracy > max_accuracy:\n",
        "    max_accuracy = accuracy\n",
        "    max_k = k\n",
        "\n",
        "print(\"The accuracy is: {}\".format(accuracy))\n",
        "print(\"The error is: {}\".format(1-accuracy))\n"
      ],
      "execution_count": 106,
      "outputs": [
        {
          "output_type": "stream",
          "text": [
            "The accuracy is: 0.21428571428571427\n",
            "The error is: 0.7857142857142857\n"
          ],
          "name": "stdout"
        }
      ]
    },
    {
      "cell_type": "markdown",
      "metadata": {
        "id": "CxQp1CNbe8Sq"
      },
      "source": [
        "# PROBLEM 4"
      ]
    },
    {
      "cell_type": "code",
      "metadata": {
        "id": "7By4k_4Me8Sq"
      },
      "source": [
        "# FEATURE PROBLEM 4 - what is considered a mass shooting?\n",
        "# This will be considered a Regression task. \n",
        "# Predicting the # of victims of a mass shooting"
      ],
      "execution_count": 107,
      "outputs": []
    },
    {
      "cell_type": "code",
      "metadata": {
        "id": "m0Jg9Y1Ne8Sq"
      },
      "source": [
        "# -- preprocessing / scaling (cont.) -- #\n",
        "\n",
        "# create a copy of the project df for this specific problem\n",
        "problem4_df = project_df\n",
        "\n",
        "# transform the training and testing data to scale. drop non-numerical columns\n",
        "scaled_data = scaler.fit_transform(problem4_df.drop(['Total victims'], axis = 1))\n",
        "\n",
        "# turn transformed/scaled data back into dataframes with header columns\n",
        "scaled_df = pd.DataFrame(scaled_data, columns=problem4_df.columns.drop(['Total victims']))\n",
        "scaled_df['Total victims'] = problem4_df['Total victims']\n",
        "\n",
        "# assign the features and target to the approriate columns/variables\n",
        "features = scaled_df.drop(['Total victims'], axis = 1)\n",
        "target = scaled_df['Total victims']"
      ],
      "execution_count": 108,
      "outputs": []
    },
    {
      "cell_type": "code",
      "metadata": {
        "id": "vO6g2WLAe8Sq"
      },
      "source": [
        "X_train, X_test, y_train, y_test = train_test_split(features, target, test_size=0.5)\n",
        "\n",
        "# scale the features \n",
        "X_train = StandardScaler().fit_transform(X_train.values)\n",
        "X_test = StandardScaler().fit_transform(X_test.values)"
      ],
      "execution_count": 109,
      "outputs": []
    },
    {
      "cell_type": "markdown",
      "metadata": {
        "id": "urW1E4x3e8Sq"
      },
      "source": [
        "## Model 1: Linear Regression"
      ]
    },
    {
      "cell_type": "code",
      "metadata": {
        "colab": {
          "base_uri": "https://localhost:8080/"
        },
        "id": "9NrJVEhqe8Sq",
        "outputId": "e830f43f-c3ef-4e44-8a06-65235d8cb7a1"
      },
      "source": [
        "# ----- MODEL 1: Linear Regression ----- #\n",
        "\n",
        "mlr = LinearRegression()\n",
        "mlr.fit(X_train, y_train)\n",
        "\n",
        "# retrieve the coefficients of the data\n",
        "coeff_df = pd.DataFrame(mlr.coef_, problem4_df.columns.drop([\"Total victims\"]), columns=[\"Coefficient\"])\n",
        "\n",
        "y_train_predict = mlr.predict(X_train)\n",
        "mse = mean_squared_error(y_train, y_train_predict)\n",
        "\n",
        "print(\"On Training Data:\")\n",
        "print(\"\\nThe MSE is {}\".format(mse))\n",
        "print(\"The RMSE is {}\\n\".format(math.sqrt(mse)))\n",
        "\n",
        "y_test_predict = mlr.predict(X_test)\n",
        "mse = mean_squared_error(y_test, y_test_predict)\n",
        "\n",
        "print(\"On Testing Data:\")\n",
        "print(\"\\nThe MSE is {}\".format(mse))\n",
        "print(\"The RMSE is {}\\n\".format(math.sqrt(mse)))"
      ],
      "execution_count": 110,
      "outputs": [
        {
          "output_type": "stream",
          "text": [
            "On Training Data:\n",
            "\n",
            "The MSE is 2155.702977781858\n",
            "The RMSE is 46.42954854165457\n",
            "\n",
            "On Testing Data:\n",
            "\n",
            "The MSE is 123.66831244425912\n",
            "The RMSE is 11.120625541949478\n",
            "\n"
          ],
          "name": "stdout"
        }
      ]
    },
    {
      "cell_type": "code",
      "metadata": {
        "colab": {
          "base_uri": "https://localhost:8080/",
          "height": 142
        },
        "id": "55DElnJIe8Sr",
        "outputId": "c01f37e0-ceda-4bba-8fb4-15da84f70ceb"
      },
      "source": [
        "coeff_df"
      ],
      "execution_count": 111,
      "outputs": [
        {
          "output_type": "execute_result",
          "data": {
            "text/html": [
              "<div>\n",
              "<style scoped>\n",
              "    .dataframe tbody tr th:only-of-type {\n",
              "        vertical-align: middle;\n",
              "    }\n",
              "\n",
              "    .dataframe tbody tr th {\n",
              "        vertical-align: top;\n",
              "    }\n",
              "\n",
              "    .dataframe thead th {\n",
              "        text-align: right;\n",
              "    }\n",
              "</style>\n",
              "<table border=\"1\" class=\"dataframe\">\n",
              "  <thead>\n",
              "    <tr style=\"text-align: right;\">\n",
              "      <th></th>\n",
              "      <th>Coefficient</th>\n",
              "    </tr>\n",
              "  </thead>\n",
              "  <tbody>\n",
              "    <tr>\n",
              "      <th>Race</th>\n",
              "      <td>-0.658491</td>\n",
              "    </tr>\n",
              "    <tr>\n",
              "      <th>Gender</th>\n",
              "      <td>-2.315605</td>\n",
              "    </tr>\n",
              "    <tr>\n",
              "      <th>Mental Health Issues</th>\n",
              "      <td>4.307240</td>\n",
              "    </tr>\n",
              "  </tbody>\n",
              "</table>\n",
              "</div>"
            ],
            "text/plain": [
              "                      Coefficient\n",
              "Race                    -0.658491\n",
              "Gender                  -2.315605\n",
              "Mental Health Issues     4.307240"
            ]
          },
          "metadata": {
            "tags": []
          },
          "execution_count": 111
        }
      ]
    },
    {
      "cell_type": "markdown",
      "metadata": {
        "id": "mrUgco0Ke8Sr"
      },
      "source": [
        "## MORE DATA PROCESSING\n",
        "### More processing of data for regression tasks, to transform them into Classifcation tasks, and so we can work with more variables"
      ]
    },
    {
      "cell_type": "code",
      "metadata": {
        "id": "jfy3no1de8Sr"
      },
      "source": [
        "# For this task, I will encode the following:\n",
        "# - Total victims as a variable where:\n",
        "# 0 = 0-9 victims\n",
        "# 1 = 10-19 victims\n",
        "# 2 = 20-29 victims\n",
        "# 3 = 30-39 victims\n",
        "# 4 = 40-49 victims\n",
        "# 5 = 50-59 victims\n",
        "# 6 = 60-69 victims\n",
        "# 7 = 70-79 victims\n",
        "# 8 = 80-89 victims\n",
        "# 9 = 90-99 victims\n",
        "# 10 = 100+ victims\n",
        "# -------------------------------------------------------\n",
        "    \n",
        "totals_df = []\n",
        "      \n",
        "    \n",
        "# ----- (1) ENCODING VICTIMS AS A VARIABLE -----\n",
        "\n",
        "for i in range(len(data)):    \n",
        "    totals_index = math.floor(data['Total victims'][i] / 10)\n",
        "\n",
        "    if totals_index >= 10:\n",
        "        totals_df.append(10)\n",
        "        \n",
        "    else:\n",
        "        totals_df.append(totals_index)\n",
        "        \n",
        "project_df[\"Total victims\"] = totals_df"
      ],
      "execution_count": 112,
      "outputs": []
    },
    {
      "cell_type": "code",
      "metadata": {
        "colab": {
          "base_uri": "https://localhost:8080/",
          "height": 419
        },
        "id": "_35hjchne8Sr",
        "outputId": "553f9116-73c0-4003-c90f-0e5ac923c7a5"
      },
      "source": [
        "project_df"
      ],
      "execution_count": 113,
      "outputs": [
        {
          "output_type": "execute_result",
          "data": {
            "text/html": [
              "<div>\n",
              "<style scoped>\n",
              "    .dataframe tbody tr th:only-of-type {\n",
              "        vertical-align: middle;\n",
              "    }\n",
              "\n",
              "    .dataframe tbody tr th {\n",
              "        vertical-align: top;\n",
              "    }\n",
              "\n",
              "    .dataframe thead th {\n",
              "        text-align: right;\n",
              "    }\n",
              "</style>\n",
              "<table border=\"1\" class=\"dataframe\">\n",
              "  <thead>\n",
              "    <tr style=\"text-align: right;\">\n",
              "      <th></th>\n",
              "      <th>Race</th>\n",
              "      <th>Gender</th>\n",
              "      <th>Mental Health Issues</th>\n",
              "      <th>Total victims</th>\n",
              "    </tr>\n",
              "  </thead>\n",
              "  <tbody>\n",
              "    <tr>\n",
              "      <th>0</th>\n",
              "      <td>0</td>\n",
              "      <td>0</td>\n",
              "      <td>0</td>\n",
              "      <td>4</td>\n",
              "    </tr>\n",
              "    <tr>\n",
              "      <th>1</th>\n",
              "      <td>0</td>\n",
              "      <td>0</td>\n",
              "      <td>0</td>\n",
              "      <td>0</td>\n",
              "    </tr>\n",
              "    <tr>\n",
              "      <th>2</th>\n",
              "      <td>1</td>\n",
              "      <td>0</td>\n",
              "      <td>0</td>\n",
              "      <td>0</td>\n",
              "    </tr>\n",
              "    <tr>\n",
              "      <th>3</th>\n",
              "      <td>0</td>\n",
              "      <td>0</td>\n",
              "      <td>2</td>\n",
              "      <td>10</td>\n",
              "    </tr>\n",
              "    <tr>\n",
              "      <th>4</th>\n",
              "      <td>2</td>\n",
              "      <td>0</td>\n",
              "      <td>1</td>\n",
              "      <td>0</td>\n",
              "    </tr>\n",
              "    <tr>\n",
              "      <th>...</th>\n",
              "      <td>...</td>\n",
              "      <td>...</td>\n",
              "      <td>...</td>\n",
              "      <td>...</td>\n",
              "    </tr>\n",
              "    <tr>\n",
              "      <th>318</th>\n",
              "      <td>1</td>\n",
              "      <td>0</td>\n",
              "      <td>1</td>\n",
              "      <td>0</td>\n",
              "    </tr>\n",
              "    <tr>\n",
              "      <th>319</th>\n",
              "      <td>0</td>\n",
              "      <td>0</td>\n",
              "      <td>1</td>\n",
              "      <td>2</td>\n",
              "    </tr>\n",
              "    <tr>\n",
              "      <th>320</th>\n",
              "      <td>2</td>\n",
              "      <td>0</td>\n",
              "      <td>1</td>\n",
              "      <td>0</td>\n",
              "    </tr>\n",
              "    <tr>\n",
              "      <th>321</th>\n",
              "      <td>2</td>\n",
              "      <td>0</td>\n",
              "      <td>1</td>\n",
              "      <td>0</td>\n",
              "    </tr>\n",
              "    <tr>\n",
              "      <th>322</th>\n",
              "      <td>2</td>\n",
              "      <td>0</td>\n",
              "      <td>1</td>\n",
              "      <td>4</td>\n",
              "    </tr>\n",
              "  </tbody>\n",
              "</table>\n",
              "<p>323 rows × 4 columns</p>\n",
              "</div>"
            ],
            "text/plain": [
              "     Race  Gender  Mental Health Issues  Total victims\n",
              "0       0       0                     0              4\n",
              "1       0       0                     0              0\n",
              "2       1       0                     0              0\n",
              "3       0       0                     2             10\n",
              "4       2       0                     1              0\n",
              "..    ...     ...                   ...            ...\n",
              "318     1       0                     1              0\n",
              "319     0       0                     1              2\n",
              "320     2       0                     1              0\n",
              "321     2       0                     1              0\n",
              "322     2       0                     1              4\n",
              "\n",
              "[323 rows x 4 columns]"
            ]
          },
          "metadata": {
            "tags": []
          },
          "execution_count": 113
        }
      ]
    },
    {
      "cell_type": "code",
      "metadata": {
        "id": "KHKhQoAte8Sr"
      },
      "source": [
        "# FEATURE PROBLEM 4 (PART 2) - predicting how many victims of a mass shooting\n",
        "# This will (NOW) be considered a CLASSIFICATION task. \n",
        "# Classifying/predicting the class for which the # of victims of a mass shooting will belong (class = bucket)"
      ],
      "execution_count": 114,
      "outputs": []
    },
    {
      "cell_type": "code",
      "metadata": {
        "id": "xxgSFye5e8Sr"
      },
      "source": [
        "# -- preprocessing / scaling (cont.) -- #\n",
        "\n",
        "# create a copy of the project df for this specific problem\n",
        "problem4_df = project_df\n",
        "\n",
        "# transform the training and testing data to scale. drop non-numerical columns\n",
        "scaled_data = scaler.fit_transform(problem4_df.drop(['Total victims'], axis = 1))\n",
        "\n",
        "# turn transformed/scaled data back into dataframes with header columns\n",
        "scaled_df = pd.DataFrame(scaled_data, columns=problem4_df.columns.drop(['Total victims']))\n",
        "scaled_df['Total victims'] = problem4_df['Total victims']\n",
        "\n",
        "# assign the features and target to the approriate columns/variables\n",
        "features = scaled_df.drop(['Total victims'], axis = 1)\n",
        "target = scaled_df['Total victims']"
      ],
      "execution_count": 115,
      "outputs": []
    },
    {
      "cell_type": "code",
      "metadata": {
        "id": "hknvpQlMe8Ss"
      },
      "source": [
        "X_train, X_test, y_train, y_test = train_test_split(features, target, test_size=0.9)\n",
        "\n",
        "# scale the features \n",
        "X_train = StandardScaler().fit_transform(X_train.values)\n",
        "X_test = StandardScaler().fit_transform(X_test.values)"
      ],
      "execution_count": 116,
      "outputs": []
    },
    {
      "cell_type": "markdown",
      "metadata": {
        "id": "GwO_daGce8Ss"
      },
      "source": [
        "## Model 1: Logistic Regression"
      ]
    },
    {
      "cell_type": "code",
      "metadata": {
        "colab": {
          "base_uri": "https://localhost:8080/"
        },
        "id": "1PkbVvwQe8Ss",
        "outputId": "4b029a33-9c1f-4242-b969-7d72850c36f2"
      },
      "source": [
        "# ----- MODEL 2: Logistic Regression ----- #\n",
        "\n",
        "lr = LogisticRegression()\n",
        "lr.fit(X_train, y_train)\n",
        "\n",
        "predict_label = lr.predict(X_test)\n",
        "\n",
        "# ----- CONFUSION MATRIX ----- #\n",
        "\n",
        "c_matrix = confusion_matrix(y_test, predict_label)\n",
        "\n",
        "tp = c_matrix[1][1]\n",
        "fp = c_matrix[0][1]\n",
        "tn = c_matrix[0][0]\n",
        "fn = c_matrix[1][0]\n",
        "\n",
        "accuracy = (tp + tn) / len(predict_label)\n",
        "print(\"\\nThe accuracy is: {}\".format(accuracy))\n",
        "print(\"The error is: {}\".format(1-accuracy))\n",
        "\n",
        "# avoid a division by 0 error\n",
        "if tp+fp > 0:\n",
        "    precision = (tp) / (tp + fp)\n",
        "    recall = (tp) / (tp + fn)\n",
        "else:\n",
        "    precision = 0\n",
        "    recall = 0\n",
        "    \n",
        "# avoid a division by 0 error\n",
        "if precision+recall > 0:\n",
        "    f1 = 2 * (precision*recall) / (precision+recall)\n",
        "else:\n",
        "    f1 = 0\n",
        "    \n",
        "print(\"\\nThe precision is: {}\".format(precision))\n",
        "print(\"The recall is: {}\".format(recall))\n",
        "print(\"The F1 score is: {}\".format(f1))"
      ],
      "execution_count": 117,
      "outputs": [
        {
          "output_type": "stream",
          "text": [
            "\n",
            "The accuracy is: 0.7457044673539519\n",
            "The error is: 0.2542955326460481\n",
            "\n",
            "The precision is: 0.0625\n",
            "The recall is: 0.023255813953488372\n",
            "The F1 score is: 0.03389830508474576\n"
          ],
          "name": "stdout"
        }
      ]
    },
    {
      "cell_type": "code",
      "metadata": {
        "id": "DyYuzf1Ce8Ss"
      },
      "source": [
        ""
      ],
      "execution_count": 117,
      "outputs": []
    }
  ]
}